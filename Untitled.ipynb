{
 "cells": [
  {
   "cell_type": "raw",
   "id": "e9d29b8d-a7c1-4bc3-b3e9-22a642cdb953",
   "metadata": {},
   "source": [
    "# Assignment 1: Semantic Image Segmentation"
   ]
  },
  {
   "cell_type": "code",
   "execution_count": null,
   "id": "90d20c37-a24d-4aa4-b07d-4b80424d76d1",
   "metadata": {},
   "outputs": [],
   "source": [
    "Welcome to the assignment semantic image segmentation. In this assignment we will train a neural network to perform of the popular computer vision task __semantic image segmentation__. The task of semantic image segmentation is to assign a semantic class to every pixel of the input image, as shown in the picture below."
   ]
  },
  {
   "cell_type": "code",
   "execution_count": null,
   "id": "01aa6f3b-b683-49fe-beb9-2b522470dcfb",
   "metadata": {},
   "outputs": [
    {
     "name": "stderr",
     "output_type": "stream",
     "text": [
      "Matplotlib created a temporary config/cache directory at /tmp/matplotlib-bcrrd72b because the default path (/home/jovyan/.config/matplotlib) is not a writable directory; it is highly recommended to set the MPLCONFIGDIR environment variable to a writable directory, in particular to speed up the import of Matplotlib and to better support multiprocessing.\n"
     ]
    }
   ],
   "source": [
    "import os\n",
    "import matplotlib.pyplot as plt\n",
    "from matplotlib.pyplot import imshow\n",
    "import numpy as np\n",
    "import random\n",
    "import glob\n",
    "\n",
    "os.environ['TF_CPP_MIN_LOG_LEVEL'] = '3'\n",
    "import tensorflow as tf\n",
    "from tensorflow.keras.models import Model\n",
    "from tensorflow.keras.layers import Input\n",
    "from tensorflow.keras.layers import Dense, Conv2D, Conv2DTranspose, MaxPooling2D\n",
    "from tensorflow.keras.layers import BatchNormalization, Dropout\n",
    "from tensorflow.keras.layers import Activation\n",
    "from tensorflow.keras.layers import Concatenate\n",
    "\n",
    "from segmentation_utils.metrics import SparseMeanIoU\n",
    "\n",
    "random.seed(123)\n",
    "\n",
    "%matplotlib inline\n",
    "plt.rcParams['figure.figsize'] = (12, 12)"
   ]
  },
  {
   "cell_type": "markdown",
   "id": "8afb5af3-b5d3-469e-91d7-d6d773cfa554",
   "metadata": {},
   "source": [
    "# Dataset"
   ]
  },
  {
   "cell_type": "markdown",
   "id": "a7e0228e-44c5-4e90-94e7-7a589df9a7a5",
   "metadata": {},
   "source": [
    "For this assignment we will use the [KITTI Segmentation Dataset](http://www.cvlibs.net/datasets/kitti/eval_semseg.php?benchmark=semantics2015) which consists of 200 manually annotated images. The RGB camera images are located in the directory `datasets/kitti/image_2` and the corresponding labels are stored in directory `datasets/kitti/semantic_rgb`. This dataset will be used to train a deep learning model for the task of semantic image segmentation. Now, we will start inspecting the dataset:\n",
    "\n",
    "In the following cell, the file paths for each image and label are extracted and lists. Then the datasets are shuffled."
   ]
  },
  {
   "cell_type": "code",
   "execution_count": null,
   "id": "c75c208f-1c33-463c-8291-39ed69bb34fa",
   "metadata": {},
   "outputs": [
    {
     "name": "stdout",
     "output_type": "stream",
     "text": [
      "datasets/kitti/image_2/000127_10.png\n",
      "datasets/kitti/semantic_rgb/000127_10.png\n"
     ]
    }
   ],
   "source": [
    "images_path_train = \"datasets/kitti/image_2\"\n",
    "labels_path_train = \"datasets/kitti/semantic_rgb\"\n",
    "\n",
    "# get file pathes\n",
    "images_path_train = sorted(glob.glob(os.path.join(images_path_train, \"*.png\")))\n",
    "labels_path_train = sorted(glob.glob(os.path.join(labels_path_train, \"*.png\")))\n",
    "\n",
    "# shuffle the dataset\n",
    "fused_list = list(zip(images_path_train, labels_path_train))\n",
    "random.shuffle(fused_list)\n",
    "images_path_train, labels_path_train = map(list, zip(*fused_list))\n",
    "\n",
    "print(images_path_train[0])\n",
    "print(labels_path_train[0])"
   ]
  },
  {
   "cell_type": "code",
   "execution_count": null,
   "id": "58f1fae3-ce32-4524-b52b-13ebda5e6886",
   "metadata": {},
   "outputs": [],
   "source": []
  }
 ],
 "metadata": {
  "kernelspec": {
   "display_name": "Python 3 (ipykernel)",
   "language": "python",
   "name": "python3"
  },
  "language_info": {
   "codemirror_mode": {
    "name": "ipython",
    "version": 3
   },
   "file_extension": ".py",
   "mimetype": "text/x-python",
   "name": "python",
   "nbconvert_exporter": "python",
   "pygments_lexer": "ipython3",
   "version": "3.9.7"
  }
 },
 "nbformat": 4,
 "nbformat_minor": 5
}
